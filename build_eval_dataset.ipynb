{
 "cells": [
  {
   "cell_type": "code",
   "execution_count": null,
   "metadata": {},
   "outputs": [],
   "source": [
    "%export API_KEY=\"google_ai_studio_api_key\""
   ]
  },
  {
   "cell_type": "code",
   "execution_count": null,
   "metadata": {},
   "outputs": [],
   "source": [
    "import google.generativeai as genai\n",
    "import os\n",
    "genai.configure(api_key=os.environ[\"API_KEY\"])"
   ]
  },
  {
   "cell_type": "code",
   "execution_count": 2,
   "metadata": {},
   "outputs": [],
   "source": [
    "import typing\n",
    "\n",
    "class WikipediaQA(typing.TypedDict):\n",
    "  question: str\n",
    "  answer: str"
   ]
  },
  {
   "cell_type": "code",
   "execution_count": 11,
   "metadata": {},
   "outputs": [],
   "source": [
    "prompt = (\n",
    "    \"Generate a list of 20 question/answer paris using wikipedia articles.\\n\"\n",
    "    \"the questions must be on a wide variety of topics such as but not limited to technology,science and sports and cinema.\\n\"\n",
    "    \"the questions must range in difficuly and scope and must include several questions that can only be answered using multiple contexts.\\n\"\n",
    "    \"\"\n",
    ")"
   ]
  },
  {
   "cell_type": "code",
   "execution_count": 79,
   "metadata": {},
   "outputs": [],
   "source": [
    "import ast \n",
    "import json\n",
    "import random\n",
    "\n",
    "random.seed(42)\n",
    "\n",
    "def generate_questions(n_requests = 5, fname= \"eval_dataset.json\"):\n",
    "    dataset = []\n",
    "    for i in range(n_requests):\n",
    "        temperature = random.uniform(0.4,0.8)\n",
    "        model_name = 'gemini-1.5-pro'\n",
    "        model = genai.GenerativeModel(\n",
    "            model_name,\n",
    "            generation_config={\"response_mime_type\": \"application/json\", \"response_schema\": list[WikipediaQA],\"temperature\":temperature}\n",
    "        )\n",
    "        print(f\"request {i}\")\n",
    "        print(\"generating questions with the following settings: \")\n",
    "        print(f\"Model: {model_name}\\nTemperature: {temperature}\")\n",
    "\n",
    "        response = model.generate_content(prompt)\n",
    "        try:\n",
    "            q_a = ast.literal_eval(response.text)\n",
    "            dataset.extend(q_a)\n",
    "            print(f\"parsed questions correctly\")\n",
    "        except:\n",
    "            print(\"response had malformed structure\")\n",
    "    \n",
    "    with open(fname, 'w') as f:\n",
    "        json.dump(dataset,f)\n",
    "    \n",
    "    return dataset"
   ]
  },
  {
   "cell_type": "code",
   "execution_count": null,
   "metadata": {},
   "outputs": [],
   "source": [
    "dataset = generate_questions()"
   ]
  }
 ],
 "metadata": {
  "kernelspec": {
   "display_name": "wikiqa",
   "language": "python",
   "name": "python3"
  },
  "language_info": {
   "codemirror_mode": {
    "name": "ipython",
    "version": 3
   },
   "file_extension": ".py",
   "mimetype": "text/x-python",
   "name": "python",
   "nbconvert_exporter": "python",
   "pygments_lexer": "ipython3",
   "version": "3.10.12"
  }
 },
 "nbformat": 4,
 "nbformat_minor": 2
}
