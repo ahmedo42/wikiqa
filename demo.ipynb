{
 "cells": [
  {
   "cell_type": "code",
   "execution_count": 1,
   "metadata": {},
   "outputs": [],
   "source": [
    "config = {\n",
    "    \"llm\":\"microsoft/Phi-3.5-mini-instruct\",\n",
    "    \"embedding_model\":\"BAAI/bge-base-en-v1.5\",\n",
    "    \"index_path\":\"./wiki_index/chroma.sqlite3\",\n",
    "    \"chunk_size\":256,\n",
    "    \"chunk_overlap\":32,\n",
    "    \"similarity_k\":5,\n",
    "    \"similarity_cutoff\":0.5,\n",
    "    \"n_articles\":3,\n",
    "    \"quantized\":True\n",
    "}"
   ]
  },
  {
   "cell_type": "code",
   "execution_count": null,
   "metadata": {},
   "outputs": [],
   "source": [
    "%env API_KEY=\"your_api_key_here\"\n",
    "%env CX=\"your_cx_here\"\n",
    "%env HF_TOKEN=\"your_hf_token_here\""
   ]
  },
  {
   "cell_type": "code",
   "execution_count": 2,
   "metadata": {},
   "outputs": [],
   "source": [
    "import json\n",
    "questions = [] \n",
    "ground_truths = []\n",
    "with open('eval_dataset.json','r') as f:\n",
    "    data = json.load(f)"
   ]
  },
  {
   "cell_type": "code",
   "execution_count": 3,
   "metadata": {},
   "outputs": [],
   "source": [
    "for entry in data:\n",
    "    if  'question' in entry and 'answer' in entry:\n",
    "        questions.append(entry['question'])\n",
    "        ground_truths.append(entry['answer'])"
   ]
  },
  {
   "cell_type": "code",
   "execution_count": null,
   "metadata": {},
   "outputs": [],
   "source": [
    "from rag import WikiRAG\n",
    "engine = WikiRAG(config_dict=config)"
   ]
  },
  {
   "cell_type": "code",
   "execution_count": null,
   "metadata": {},
   "outputs": [],
   "source": [
    "from transformers import BitsAndBytesConfig\n",
    "from llama_index.llms.huggingface import HuggingFaceLLM\n",
    "import torch\n",
    "import os\n",
    "\n",
    "kwargs = {\n",
    "    \"token\": os.environ['HF_TOKEN'],\n",
    "    \"torch_dtype\": torch.bfloat16, \n",
    "}\n",
    "\n",
    "if config['quantized']:\n",
    "    quantization_config = BitsAndBytesConfig(\n",
    "        load_in_4bit=True,\n",
    "        bnb_4bit_compute_dtype=torch.float16,\n",
    "        bnb_4bit_quant_type=\"nf4\",\n",
    "        bnb_4bit_use_double_quant=True,\n",
    "    )\n",
    "    del kwargs['torch_dtype']\n",
    "    kwargs[\"quantization_config\"] = quantization_config\n",
    "\n",
    "llm = HuggingFaceLLM(\n",
    "    model_name=config['llm'],\n",
    "    tokenizer_name=config['llm'],\n",
    "    model_kwargs = kwargs,\n",
    "    tokenizer_kwargs={\"token\": os.environ['HF_TOKEN']},\n",
    ")"
   ]
  },
  {
   "cell_type": "code",
   "execution_count": null,
   "metadata": {},
   "outputs": [],
   "source": [
    "llm_answers = []\n",
    "rag_answers = []\n",
    "contexts = []\n",
    "\n",
    "for question in questions:\n",
    "    llm_answer = llm.complete(question)\n",
    "    rag_answer, contexts = engine.query(question)\n",
    "    llm_answers.append(llm_answer)\n",
    "    rag_answers.append(rag_answers)\n",
    "    contexts.append(contexts)"
   ]
  },
  {
   "cell_type": "code",
   "execution_count": null,
   "metadata": {},
   "outputs": [],
   "source": [
    "# 1. evaluate generation metrics (faithfulness, correctness, relevancy)\n",
    "from datasets import Dataset \n",
    "from ragas.metrics import faithfulness, answer_correctness, answer_relevancy, context_recall,context_precision\n",
    "from ragas import evaluate\n",
    "\n",
    "llm_samples = {\n",
    "    'question' : questions,\n",
    "    'answer': llm_answers,\n",
    "    'ground_truth': ground_truths,\n",
    "}\n",
    "\n",
    "llm_dataset = Dataset.from_dict(llm_samples)\n",
    "llm_score = evaluate(llm_dataset,metrics=[faithfulness,answer_correctness,answer_relevancy])"
   ]
  },
  {
   "cell_type": "code",
   "execution_count": null,
   "metadata": {},
   "outputs": [],
   "source": [
    "rag_samples = {\n",
    "    'question' : questions,\n",
    "    'answer': llm_answers,\n",
    "    'ground_truth': ground_truths,\n",
    "    'context': contexts\n",
    "}\n",
    "\n",
    "rag_dataset = Dataset.from_dict(rag_samples)\n",
    "\n",
    "rag_score = evaluate(llm_dataset,metrics=\n",
    "                     [faithfulness,answer_correctness,answer_relevancy,context_precision,context_recall])"
   ]
  }
 ],
 "metadata": {
  "kernelspec": {
   "display_name": "wikiqa",
   "language": "python",
   "name": "python3"
  },
  "language_info": {
   "codemirror_mode": {
    "name": "ipython",
    "version": 3
   },
   "file_extension": ".py",
   "mimetype": "text/x-python",
   "name": "python",
   "nbconvert_exporter": "python",
   "pygments_lexer": "ipython3",
   "version": "3.10.12"
  }
 },
 "nbformat": 4,
 "nbformat_minor": 2
}
