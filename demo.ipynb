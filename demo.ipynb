{
 "cells": [
  {
   "cell_type": "code",
   "execution_count": null,
   "metadata": {},
   "outputs": [],
   "source": [
    "%env API_KEY=\"your_api_key_here\"\n",
    "%env CX=\"your_cx_here\"\n",
    "%env HF_TOKEN=\"your_hf_token_here\""
   ]
  },
  {
   "cell_type": "code",
   "execution_count": null,
   "metadata": {},
   "outputs": [],
   "source": [
    "config = {\n",
    "    \"llm\":\"microsoft/Phi-3.5-mini-instruct\",\n",
    "    \"embedding_model\":\"BAAI/bge-base-en-v1.5\",\n",
    "    \"index_path\":\"./wiki_index/chroma.sqlite3\",\n",
    "    \"chunk_size\":256,\n",
    "    \"chunk_overlap\":32,\n",
    "    \"similarity_k\":5,\n",
    "    \"similarity_cutoff\":0.5,\n",
    "    \"temperature\":0,\n",
    "    \"n_articles\":3,\n",
    "    \"quantized\":False\n",
    "}"
   ]
  },
  {
   "cell_type": "code",
   "execution_count": null,
   "metadata": {},
   "outputs": [],
   "source": [
    "from rag import WikiRAG\n",
    "engine = WikiRAG(config)"
   ]
  },
  {
   "cell_type": "code",
   "execution_count": null,
   "metadata": {},
   "outputs": [],
   "source": [
    "prompt = \"name the top 5 oscar winning actors and actresses\""
   ]
  },
  {
   "cell_type": "code",
   "execution_count": null,
   "metadata": {},
   "outputs": [],
   "source": [
    "answer, contexts = engine.query(prompt)"
   ]
  },
  {
   "cell_type": "code",
   "execution_count": null,
   "metadata": {},
   "outputs": [],
   "source": [
    "print(answer)"
   ]
  },
  {
   "cell_type": "code",
   "execution_count": null,
   "metadata": {},
   "outputs": [],
   "source": [
    "print(contexts)"
   ]
  }
 ],
 "metadata": {
  "language_info": {
   "name": "python"
  }
 },
 "nbformat": 4,
 "nbformat_minor": 2
}
